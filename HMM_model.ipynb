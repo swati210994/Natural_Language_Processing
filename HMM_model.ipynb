{
 "cells": [
  {
   "cell_type": "code",
   "execution_count": 1,
   "metadata": {},
   "outputs": [],
   "source": [
    "output_labels={'hot_chocolate':0,'soda':1,'ice_cream':2}"
   ]
  },
  {
   "cell_type": "code",
   "execution_count": 2,
   "metadata": {},
   "outputs": [],
   "source": [
    "state_name=['cold','normal','hot']\n",
    "state_outputs={'cold':0,'normal':1,'hot':2}\n",
    "states=len(state_name)"
   ]
  },
  {
   "cell_type": "code",
   "execution_count": 3,
   "metadata": {},
   "outputs": [],
   "source": [
    "start=-1\n",
    "cold=state_outputs['cold']\n",
    "normal=state_outputs['normal']\n",
    "hot=state_outputs['hot']\n",
    "\n",
    "hot_chocolate=output_labels['hot_chocolate']\n",
    "soda=output_labels['soda']\n",
    "ice_cream=output_labels['ice_cream']"
   ]
  },
  {
   "cell_type": "code",
   "execution_count": 4,
   "metadata": {},
   "outputs": [],
   "source": [
    "# Transition probabilities:\n",
    "\n",
    "trans={}\n",
    "\n",
    "trans[(start,cold)]=0.1\n",
    "trans[(start,hot)]=0.1\n",
    "trans[(start,normal)]=0.8\n",
    "\n",
    "trans[(cold,cold)]=0.7\n",
    "trans[(cold,hot)]=0.2\n",
    "trans[(cold,normal)]=0.1\n",
    "\n",
    "trans[(hot,cold)]=0.2\n",
    "trans[(hot,hot)]=0.4\n",
    "trans[(hot,normal)]=0.4\n",
    "\n",
    "trans[(normal,cold)]=0.3\n",
    "trans[(normal,hot)]=0.3\n",
    "trans[(normal,normal)]=0.4"
   ]
  },
  {
   "cell_type": "code",
   "execution_count": 5,
   "metadata": {},
   "outputs": [],
   "source": [
    "# State outputs:\n",
    "\n",
    "output={}\n",
    "\n",
    "output[(cold,hot_chocolate)]=0.7\n",
    "output[(normal,hot_chocolate)]=0.1\n",
    "output[(hot,hot_chocolate)]=0\n",
    "\n",
    "output[(cold,soda)]=0.3\n",
    "output[(normal,soda)]=0.7\n",
    "output[(hot,soda)]=0.6\n",
    "\n",
    "output[(cold,ice_cream)]=0\n",
    "output[(normal,ice_cream)]=0.2\n",
    "output[(hot,ice_cream)]=0.4"
   ]
  },
  {
   "cell_type": "code",
   "execution_count": 6,
   "metadata": {},
   "outputs": [],
   "source": [
    "diary_seq=[soda,soda,hot_chocolate,ice_cream,soda,soda,ice_cream]\n",
    "seq_len=len(diary_seq)\n",
    "\n",
    "fwd_value={}\n",
    "backward_value={}"
   ]
  },
  {
   "cell_type": "code",
   "execution_count": 7,
   "metadata": {},
   "outputs": [],
   "source": [
    "def compute_max(t,snext):\n",
    "    max_value=0\n",
    "    \n",
    "    for s in range(states):\n",
    "        value=fwd_value[t,s]*trans[(s,snext)]\n",
    "        if s==0 or value>max_value:\n",
    "            max_value=value\n",
    "            max_state=s\n",
    "    return max_value,max_state    "
   ]
  },
  {
   "cell_type": "code",
   "execution_count": 8,
   "metadata": {},
   "outputs": [],
   "source": [
    "def viterbi(trans,output,diary_seq):\n",
    "    \n",
    "    for s in range(states):\n",
    "        fwd_value[0,s]=trans[(start,s)]*output[(s,diary_seq[0])]\n",
    "        \n",
    "    for t in range(1,seq_len):\n",
    "        for s in range(states):\n",
    "            max_value,max_state=compute_max(t-1,s)\n",
    "            fwd_value[t,s]=max_value*output[(s,diary_seq[t])]\n",
    "            backward_value[t,s]=max_state\n",
    "            \n",
    "    path=[]\n",
    "            \n",
    "    for t in range(seq_len):\n",
    "        param=seq_len-1-t\n",
    "        max_value=0\n",
    "        max_state=0\n",
    "        for s in range(states):\n",
    "            value=fwd_value[t,s]\n",
    "            if s==0 or value>max_value:\n",
    "                max_value=value\n",
    "                max_state=s\n",
    "        path.append(max_state)\n",
    "    return path\n",
    "    "
   ]
  },
  {
   "cell_type": "code",
   "execution_count": 9,
   "metadata": {},
   "outputs": [],
   "source": [
    "path=viterbi(trans,output,diary_seq)"
   ]
  },
  {
   "cell_type": "code",
   "execution_count": 10,
   "metadata": {},
   "outputs": [
    {
     "name": "stdout",
     "output_type": "stream",
     "text": [
      "Diary entries:  ['soda', 'soda', 'hot_chocolate', 'ice_cream', 'soda', 'soda', 'ice_cream']\n",
      "\n",
      "Predicted weather sequence: \n",
      "\n",
      "Day:  1 normal\n",
      "Day:  2 normal\n",
      "Day:  3 cold\n",
      "Day:  4 hot\n",
      "Day:  5 normal\n",
      "Day:  6 normal\n",
      "Day:  7 hot\n"
     ]
    }
   ],
   "source": [
    "diary=['soda','soda','hot_chocolate','ice_cream','soda','soda','ice_cream']\n",
    "print('Diary entries: ',diary)\n",
    "print()\n",
    "print('Predicted weather sequence: ')\n",
    "print()\n",
    "for day,weather in enumerate(path):\n",
    "    print('Day: ',day+1,state_name[weather])"
   ]
  },
  {
   "cell_type": "markdown",
   "metadata": {},
   "source": [
    "### HMM Tagger ###"
   ]
  },
  {
   "cell_type": "markdown",
   "metadata": {},
   "source": [
    "VB which is a verb,\n",
    "TO which is an infinitive,\n",
    "NN is a noun,\n",
    "and PPSS is a pronoun."
   ]
  },
  {
   "cell_type": "code",
   "execution_count": 11,
   "metadata": {},
   "outputs": [],
   "source": [
    "start_new=-1\n",
    "VB=0\n",
    "TO=1\n",
    "NN=2\n",
    "PPSS=3"
   ]
  },
  {
   "cell_type": "code",
   "execution_count": 12,
   "metadata": {},
   "outputs": [],
   "source": [
    "output_states={'VB':0,'TO':1,'NN':2,'PPSS: ':3}\n",
    "total_states=len(output_states)\n",
    "POS_names=['VB','TO','NN','PPSS']"
   ]
  },
  {
   "cell_type": "code",
   "execution_count": 23,
   "metadata": {},
   "outputs": [],
   "source": [
    "I=0\n",
    "want=1\n",
    "to=2\n",
    "race=3"
   ]
  },
  {
   "cell_type": "code",
   "execution_count": 56,
   "metadata": {},
   "outputs": [],
   "source": [
    "# Transition probabilities:\n",
    "\n",
    "trans_new={}\n",
    "\n",
    "trans_new[(start_new,VB)]=0.19\n",
    "trans_new[(start_new,TO)]=0.0043\n",
    "trans_new[(start_new,NN)]=0.041\n",
    "trans_new[(start_new,PPSS)]=0.067\n",
    "\n",
    "trans_new[(VB,VB)]=0.19\n",
    "trans_new[(VB,TO)]=0.0043\n",
    "trans_new[(VB,NN)]=0.041\n",
    "trans_new[(VB,PPSS)]=0.067\n",
    "\n",
    "trans_new[(TO,VB)]=0.038\n",
    "trans_new[(TO,TO)]=0.035\n",
    "trans_new[(TO,NN)]=0.047\n",
    "trans_new[(TO,PPSS)]=0.0070\n",
    "\n",
    "trans_new[(NN,VB)]=0.83\n",
    "trans_new[(NN,TO)]=0\n",
    "trans_new[(NN,NN)]=0.00047\n",
    "trans_new[(NN,PPSS)]=0\n",
    "\n",
    "trans_new[(PPSS,VB)]=0.23\n",
    "trans_new[(PPSS,TO)]=0.00079\n",
    "trans_new[(PPSS,NN)]=0.0012\n",
    "trans_new[(PPSS,PPSS)]=0.00014"
   ]
  },
  {
   "cell_type": "code",
   "execution_count": 57,
   "metadata": {},
   "outputs": [],
   "source": [
    "# State outputs:\n",
    "\n",
    "output_new={}\n",
    "\n",
    "output_new[(VB,I)]=0\n",
    "output_new[(TO,I)]=0\n",
    "output_new[(NN,I)]=0\n",
    "output_new[(PPSS,I)]=0.37\n",
    "\n",
    "output_new[(VB,want)]=0.0093\n",
    "output_new[(TO,want)]=0\n",
    "output_new[(NN,want)]=0.000054\n",
    "output_new[(PPSS,want)]=0\n",
    "\n",
    "output_new[(VB,to)]=0\n",
    "output_new[(TO,to)]=0.99\n",
    "output_new[(NN,to)]=0\n",
    "output_new[(PPSS,to)]=0\n",
    "\n",
    "output_new[(VB,race)]=0.00012\n",
    "output_new[(TO,race)]=0\n",
    "output_new[(NN,race)]=0\n",
    "output_new[(PPSS,race)]=0"
   ]
  },
  {
   "cell_type": "code",
   "execution_count": 48,
   "metadata": {},
   "outputs": [],
   "source": [
    "sentence_seq=[I,want,to,race]\n",
    "sentence_seq_len=len(sentence_seq)\n",
    "fwd_path={}\n",
    "backward_path={}"
   ]
  },
  {
   "cell_type": "code",
   "execution_count": 49,
   "metadata": {},
   "outputs": [],
   "source": [
    "def compute_max_tagger(t,snext):\n",
    "    max_value=0\n",
    "    \n",
    "    for s in range(total_states):\n",
    "        value=fwd_path[t,s]*trans_new[(s,snext)]\n",
    "        if s==0 or value>max_value:\n",
    "            max_value=value\n",
    "            max_state=s\n",
    "    return max_value,max_state    "
   ]
  },
  {
   "cell_type": "code",
   "execution_count": 50,
   "metadata": {},
   "outputs": [],
   "source": [
    "def viterbi_tagger(trans_new,output_new,sentence_seq):\n",
    "    \n",
    "    for s in range(total_states):\n",
    "        fwd_path[0,s]=trans_new[(start_new,s)]*output_new[(s,sentence_seq[0])]\n",
    "        \n",
    "    for t in range(1,sentence_seq_len):\n",
    "        for s in range(total_states):\n",
    "            max_value,max_state=compute_max_tagger(t-1,s)\n",
    "            fwd_path[t,s]=max_value*output_new[(s,sentence_seq[t])]\n",
    "            backward_path[t,s]=max_state\n",
    "            \n",
    "    path_tagger=[]\n",
    "            \n",
    "    for t in range(sentence_seq_len):\n",
    "        param=sentence_seq_len-1-t\n",
    "        max_value=0\n",
    "        max_state=0\n",
    "        for s in range(total_states):\n",
    "            value=fwd_path[t,s]\n",
    "            if s==0 or value>max_value:\n",
    "                max_value=value\n",
    "                max_state=s\n",
    "        path_tagger.append(max_state)\n",
    "    return path_tagger\n",
    "    "
   ]
  },
  {
   "cell_type": "code",
   "execution_count": 51,
   "metadata": {},
   "outputs": [
    {
     "data": {
      "text/plain": [
       "[3, 0, 1, 0]"
      ]
     },
     "execution_count": 51,
     "metadata": {},
     "output_type": "execute_result"
    }
   ],
   "source": [
    "path_tagger=viterbi_tagger(trans_new,output_new,sentence_seq)\n",
    "path_tagger"
   ]
  },
  {
   "cell_type": "code",
   "execution_count": 52,
   "metadata": {},
   "outputs": [
    {
     "name": "stdout",
     "output_type": "stream",
     "text": [
      "Sentence:  ['I', 'want', 'to', 'race']\n",
      "\n",
      "Predicted POS of the sequence: \n",
      "\n",
      "word:  I POS tag:  PPSS\n",
      "word:  want POS tag:  VB\n",
      "word:  to POS tag:  TO\n",
      "word:  race POS tag:  VB\n"
     ]
    }
   ],
   "source": [
    "sentence=['I','want','to','race']\n",
    "print('Sentence: ',sentence)\n",
    "print()\n",
    "print('Predicted POS of the sequence: ')\n",
    "print()\n",
    "for word,tag in enumerate(path_tagger):\n",
    "    print('word: ',sentence[word],'POS tag: ',POS_names[tag])"
   ]
  },
  {
   "cell_type": "code",
   "execution_count": 54,
   "metadata": {},
   "outputs": [],
   "source": [
    "import nltk"
   ]
  },
  {
   "cell_type": "code",
   "execution_count": 55,
   "metadata": {},
   "outputs": [
    {
     "data": {
      "text/plain": [
       "[('I', 'PRP'), ('want', 'VBP'), ('to', 'TO'), ('race', 'NN')]"
      ]
     },
     "execution_count": 55,
     "metadata": {},
     "output_type": "execute_result"
    }
   ],
   "source": [
    "text='I want to race'\n",
    "nltk.pos_tag(text.split())"
   ]
  }
 ],
 "metadata": {
  "kernelspec": {
   "display_name": "Python 3",
   "language": "python",
   "name": "python3"
  },
  "language_info": {
   "codemirror_mode": {
    "name": "ipython",
    "version": 3
   },
   "file_extension": ".py",
   "mimetype": "text/x-python",
   "name": "python",
   "nbconvert_exporter": "python",
   "pygments_lexer": "ipython3",
   "version": "3.7.3"
  }
 },
 "nbformat": 4,
 "nbformat_minor": 2
}
