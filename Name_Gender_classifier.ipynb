{
 "cells": [
  {
   "cell_type": "code",
   "execution_count": null,
   "metadata": {},
   "outputs": [],
   "source": [
    "import nltk\n",
    "# nltk.download()\n",
    "import random\n",
    "import matplotlib.pyplot as plt"
   ]
  },
  {
   "cell_type": "code",
   "execution_count": null,
   "metadata": {},
   "outputs": [],
   "source": [
    "male_list=nltk.corpus.names.words('male.txt')\n",
    "female_list=nltk.corpus.names.words('female.txt')"
   ]
  },
  {
   "cell_type": "code",
   "execution_count": null,
   "metadata": {},
   "outputs": [],
   "source": [
    "names=[(name,'male') for name in male_list]\n",
    "names+=[(name,'female') for name in female_list]"
   ]
  },
  {
   "cell_type": "code",
   "execution_count": null,
   "metadata": {},
   "outputs": [],
   "source": [
    "total_count=len(names)\n",
    "train_count=int(80*total_count/100)\n",
    "test_count=total_count-train_count\n",
    "\n",
    "print('Total entries {} Train entries {} Test entries {}'.format(total_count,train_count,test_count))"
   ]
  },
  {
   "cell_type": "code",
   "execution_count": null,
   "metadata": {},
   "outputs": [],
   "source": [
    "def extract_features(name):\n",
    "    name=name.lower()\n",
    "    extracted_features={}\n",
    "#     extracted_features['given_name']=name\n",
    "    extracted_features['first_suffix']=name[-1]\n",
    "    extracted_features['first_prefix']=name[0]\n",
    "    extracted_features['second_suffix']=name[-2]\n",
    "    extracted_features['second_prefix']=name[1]\n",
    "    \n",
    "    if len(name)>2:\n",
    "        extracted_features['third_suffix']=name[-3]\n",
    "        extracted_features['third_prefix']=name[2]\n",
    "    else:\n",
    "        extracted_features['third_suffix']=name[0]\n",
    "        extracted_features['third_prefix']=name[0]\n",
    "        \n",
    "    \n",
    "    if len(name)>3:\n",
    "        extracted_features['fourth_suffix']=name[-4]\n",
    "        extracted_features['fourth_prefix']=name[3]\n",
    "        \n",
    "    else:\n",
    "        extracted_features['fourth_suffix']=name[0]\n",
    "        extracted_features['fourth_prefix']=name[0]\n",
    "        \n",
    "        \n",
    "    return extracted_features"
   ]
  },
  {
   "cell_type": "code",
   "execution_count": null,
   "metadata": {},
   "outputs": [],
   "source": [
    "data=[(extract_features(name),gender) for (name,gender) in names]"
   ]
  },
  {
   "cell_type": "code",
   "execution_count": null,
   "metadata": {},
   "outputs": [],
   "source": [
    "random.shuffle(data)\n",
    "train_data=data[:train_count]\n",
    "test_data=data[train_count:]"
   ]
  },
  {
   "cell_type": "code",
   "execution_count": null,
   "metadata": {},
   "outputs": [],
   "source": [
    "classifier = nltk.NaiveBayesClassifier.train(train_data)\n",
    "print(\"Classifier testing accuracy percent:\",(nltk.classify.accuracy(classifier, test_data))*100)\n",
    "print(\"Classifier training accuracy percent in :\",(nltk.classify.accuracy(classifier, train_data))*100)\n",
    "classifier.show_most_informative_features(25)"
   ]
  },
  {
   "cell_type": "code",
   "execution_count": null,
   "metadata": {},
   "outputs": [],
   "source": [
    "def naive_classifier(name):\n",
    "    label=classifier.classify(extract_features(name))\n",
    "    print('Name: {} classified as {}'.format(name,label))"
   ]
  },
  {
   "cell_type": "code",
   "execution_count": null,
   "metadata": {},
   "outputs": [],
   "source": [
    "error=[('Name','Ground truth','Prediction')]\n",
    "for name,gender in names:\n",
    "    label=classifier.classify(extract_features(name))\n",
    "    if gender!=label:\n",
    "        error.append((name,gender,label))   "
   ]
  },
  {
   "cell_type": "code",
   "execution_count": null,
   "metadata": {},
   "outputs": [],
   "source": [
    "len(error)"
   ]
  }
 ],
 "metadata": {
  "kernelspec": {
   "display_name": "Python 3",
   "language": "python",
   "name": "python3"
  },
  "language_info": {
   "codemirror_mode": {
    "name": "ipython",
    "version": 3
   },
   "file_extension": ".py",
   "mimetype": "text/x-python",
   "name": "python",
   "nbconvert_exporter": "python",
   "pygments_lexer": "ipython3",
   "version": "3.7.3"
  }
 },
 "nbformat": 4,
 "nbformat_minor": 2
}
