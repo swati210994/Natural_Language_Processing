{
 "cells": [
  {
   "cell_type": "code",
   "execution_count": 2,
   "metadata": {},
   "outputs": [],
   "source": [
    "import nltk\n",
    "from nltk.corpus import movie_reviews as review\n",
    "from nltk.probability import FreqDist as fd\n",
    "import matplotlib.pyplot as plt\n",
    "import random"
   ]
  },
  {
   "cell_type": "code",
   "execution_count": null,
   "metadata": {},
   "outputs": [],
   "source": [
    "nltk.download()"
   ]
  },
  {
   "cell_type": "markdown",
   "metadata": {},
   "source": [
    "### Basics ###"
   ]
  },
  {
   "cell_type": "markdown",
   "metadata": {},
   "source": [
    "<font color=red>Print categories of the movie review</font>"
   ]
  },
  {
   "cell_type": "code",
   "execution_count": null,
   "metadata": {},
   "outputs": [],
   "source": [
    "review.categories()"
   ]
  },
  {
   "cell_type": "markdown",
   "metadata": {},
   "source": [
    "<font color=red>All the words in the movie reviews</font>"
   ]
  },
  {
   "cell_type": "code",
   "execution_count": null,
   "metadata": {},
   "outputs": [],
   "source": [
    "review.words()"
   ]
  },
  {
   "cell_type": "markdown",
   "metadata": {},
   "source": [
    "<font color=red>Frequency distribution of the words</font>"
   ]
  },
  {
   "cell_type": "code",
   "execution_count": null,
   "metadata": {},
   "outputs": [],
   "source": [
    "freq_dist=fd(review.words())\n",
    "freq_dist"
   ]
  },
  {
   "cell_type": "code",
   "execution_count": null,
   "metadata": {},
   "outputs": [],
   "source": [
    "plt.figure(figsize=(20,5))\n",
    "plt.title('Frequency distribution curve')\n",
    "freq_dist.plot(100)"
   ]
  },
  {
   "cell_type": "code",
   "execution_count": null,
   "metadata": {},
   "outputs": [],
   "source": [
    "# Frequency of the given word 'Happy'\n",
    "fd(review.words())['happy']"
   ]
  },
  {
   "cell_type": "code",
   "execution_count": null,
   "metadata": {},
   "outputs": [],
   "source": [
    "# Frequency of the 'x' most common words in movie review\n",
    "x=20\n",
    "fd(review.words()).most_common(x)"
   ]
  },
  {
   "cell_type": "markdown",
   "metadata": {},
   "source": [
    "<font color=red>Each of the movie review has a file id associated with it. The file id is the identification factor of movie review.</font>"
   ]
  },
  {
   "cell_type": "code",
   "execution_count": null,
   "metadata": {},
   "outputs": [],
   "source": [
    "total_reviews=review.fileids()\n",
    "pos_review=review.fileids('pos')\n",
    "neg_review=review.fileids('neg')\n",
    "\n",
    "print('Total reviews {} Positive: {} Negative: {}'.format(len(total_reviews),len(pos_review),len(neg_review)))"
   ]
  },
  {
   "cell_type": "markdown",
   "metadata": {},
   "source": [
    "<font color=red>Prints all words in movie_review with file id</font>"
   ]
  },
  {
   "cell_type": "code",
   "execution_count": null,
   "metadata": {},
   "outputs": [],
   "source": [
    "fileid=neg_review[0]\n",
    "review.words(fileid)"
   ]
  },
  {
   "cell_type": "markdown",
   "metadata": {},
   "source": [
    "### Sentiment analysis ###"
   ]
  },
  {
   "cell_type": "code",
   "execution_count": 3,
   "metadata": {},
   "outputs": [],
   "source": [
    "data=[(review.words(id),cat)for cat in review.categories()  for id in review.fileids(cat)]\n",
    "random.shuffle(data)"
   ]
  },
  {
   "cell_type": "code",
   "execution_count": 4,
   "metadata": {},
   "outputs": [],
   "source": [
    "# All unique words in movie reviews.\n",
    "words_freq_dist=fd(words.lower() for words in review.words())"
   ]
  },
  {
   "cell_type": "code",
   "execution_count": 5,
   "metadata": {},
   "outputs": [],
   "source": [
    "#Displays frequency of 2000 most common words in words_freq_dist (Among all unique words, this gives the frequencies of the most 2000 commomn words)\n",
    "common_words=[words for words,freq in words_freq_dist.most_common(2000)]"
   ]
  },
  {
   "cell_type": "code",
   "execution_count": 6,
   "metadata": {},
   "outputs": [],
   "source": [
    "def extract_features(data):\n",
    "    features={}\n",
    "\n",
    "    for word in common_words:\n",
    "        features[word]=word in data\n",
    "    return features  "
   ]
  },
  {
   "cell_type": "code",
   "execution_count": 10,
   "metadata": {},
   "outputs": [
    {
     "name": "stdout",
     "output_type": "stream",
     "text": [
      "Total datapoint: 50 Train datapoints 40 Test datapoints 10\n"
     ]
    }
   ],
   "source": [
    "dataset=[(extract_features(doc),label) for doc,label in data[:50]] # Taking 50 points only, due to time and power consumption.\n",
    "\n",
    "total_len=len(dataset)\n",
    "train_len=int(total_len*80/100)\n",
    "test_len=total_len-train_len\n",
    "\n",
    "print('Total datapoint: {} Train datapoints {} Test datapoints {}'.format(total_len,train_len,test_len))"
   ]
  },
  {
   "cell_type": "code",
   "execution_count": 12,
   "metadata": {},
   "outputs": [],
   "source": [
    "train_data=dataset[:train_len]\n",
    "test_data=dataset[train_len:]"
   ]
  },
  {
   "cell_type": "markdown",
   "metadata": {},
   "source": [
    "### Classifier: 1 ###"
   ]
  },
  {
   "cell_type": "code",
   "execution_count": 13,
   "metadata": {},
   "outputs": [
    {
     "name": "stdout",
     "output_type": "stream",
     "text": [
      "Training accuracy : 97.5\n",
      "Testing accuracy : 50.0\n"
     ]
    }
   ],
   "source": [
    "classifier=nltk.NaiveBayesClassifier.train(train_data)\n",
    "print('Training accuracy :',nltk.classify.accuracy(classifier,train_data)*100)\n",
    "print('Testing accuracy :',nltk.classify.accuracy(classifier,test_data)*100)"
   ]
  },
  {
   "cell_type": "markdown",
   "metadata": {},
   "source": [
    "### Classifier: 2 ###"
   ]
  },
  {
   "cell_type": "code",
   "execution_count": 14,
   "metadata": {},
   "outputs": [],
   "source": [
    "from nltk.classify.scikitlearn import SklearnClassifier\n",
    "from sklearn.svm import SVC\n",
    "from sklearn import model_selection"
   ]
  },
  {
   "cell_type": "code",
   "execution_count": 18,
   "metadata": {},
   "outputs": [
    {
     "name": "stdout",
     "output_type": "stream",
     "text": [
      "Train datapoints 40 Test datapoints 10\n"
     ]
    }
   ],
   "source": [
    "training_dataset,test_dataset=model_selection.train_test_split(dataset,test_size = 0.20)\n",
    "print('Train datapoints {} Test datapoints {}'.format(len(training_dataset),len(test_dataset)))"
   ]
  },
  {
   "cell_type": "code",
   "execution_count": 26,
   "metadata": {},
   "outputs": [
    {
     "name": "stdout",
     "output_type": "stream",
     "text": [
      "SVC Train Accuracy: 100.0 Test Accuracy : 60.0\n"
     ]
    }
   ],
   "source": [
    "model = SklearnClassifier(SVC(kernel = 'linear'))\n",
    "model.train(training_dataset)\n",
    "train_accuracy = nltk.classify.accuracy(model, training_dataset)*100\n",
    "accuracy = nltk.classify.accuracy(model, test_dataset)*100\n",
    "print('SVC Train Accuracy: {} Test Accuracy : {}'.format(train_accuracy,accuracy))"
   ]
  },
  {
   "cell_type": "markdown",
   "metadata": {},
   "source": [
    "### Classifier :3 ###"
   ]
  },
  {
   "cell_type": "code",
   "execution_count": 28,
   "metadata": {},
   "outputs": [
    {
     "name": "stdout",
     "output_type": "stream",
     "text": [
      "SVC using poly kernel Train Accuracy: 60.0 Test Accuracy : 50.0\n"
     ]
    }
   ],
   "source": [
    "poly_svc_model = SklearnClassifier(SVC(kernel = 'poly'))\n",
    "poly_svc_model.train(training_dataset)\n",
    "train_poly_accuracy = nltk.classify.accuracy(poly_svc_model, training_dataset)*100\n",
    "test_poly_accuracy = nltk.classify.accuracy(poly_svc_model, test_dataset)*100\n",
    "print('SVC using poly kernel Train Accuracy: {} Test Accuracy : {}'.format(train_poly_accuracy,test_poly_accuracy))"
   ]
  },
  {
   "cell_type": "code",
   "execution_count": null,
   "metadata": {},
   "outputs": [],
   "source": []
  }
 ],
 "metadata": {
  "kernelspec": {
   "display_name": "Python 3",
   "language": "python",
   "name": "python3"
  }
 },
 "nbformat": 4,
 "nbformat_minor": 2
}
